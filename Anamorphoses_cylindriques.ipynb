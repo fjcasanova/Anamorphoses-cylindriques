{
 "cells": [
  {
   "cell_type": "markdown",
   "id": "353d917b",
   "metadata": {},
   "source": [
    "  <h1 style=\"text-align: center;\">  Anamorphoses Cylindriques  </h1>\n",
    "\n",
    "\n",
    "<center><img src= \"./Images/Nevtelen-12.jpg\" style = 'width: 500px' /></center>\n",
    "\n",
    "# Préambule :\n",
    "\n",
    "L'image ci-dessus est une oeuvre de l'artiste hongrois Istvàn Orosz intitulée *A Magically Appearing Portrait of Jules Verne on the Mysterious Island* (1983). \n",
    "\n",
    "À première vue il s'agit simplement d'explorateurs atteignant un navire échoué au milieu des glaciers, mais regardez mieux :\n"
   ]
  },
  {
   "cell_type": "markdown",
   "id": "acdcd41f",
   "metadata": {},
   "source": [
    "\n",
    "<center><img src= \"./Images/orosz.jpeg\" style = 'width: 600px' /></center>\n"
   ]
  },
  {
   "cell_type": "markdown",
   "id": "1d9e820f",
   "metadata": {},
   "source": [
    "\n",
    "Une fois le cylindre réfléchissant posé, comme son nom le suggère, l'image prend un tout autre sens : le paysage s'y reflète et fait apparaître le visage de Jules Verne. \n",
    "\n",
    "Un tel procédé est appelé une anamorphose cylindrique, notre objectif ici sera d'obtenir un résultat similaire : à partir d'une image initiale $I_1$ donnée de dimensions $H_1\\times L_1$  , créer une image finale à imprimer $I_2$ de dimensions $H_2\\times L_2$, afin que s'y reflète l'image initiale.\n",
    "\n",
    "Pour cela commençons par décider des dimensions de notre image finale, et créer une image vide que l'on cherchera donc à \"colorier\" :"
   ]
  },
  {
   "cell_type": "code",
   "execution_count": 1,
   "id": "44947987",
   "metadata": {},
   "outputs": [],
   "source": [
    "from numpy import zeros, uint8\n",
    "L_2, H_2 = 1280, 720\n",
    "I_2 = zeros((H_2, L_2, 3), dtype = uint8)"
   ]
  },
  {
   "cell_type": "markdown",
   "id": "afdfc1b2",
   "metadata": {},
   "source": [
    "Ensuite, il nous faut décider du rayon du cylindre que l'on souhaite utiliser pour notre modilisation.\n",
    "Pour cela nous avons tout simplement mesuré celui que nous avions à disposition et avons constaté qu'il correspondait à environ $13,4\\%$ de la longueur d'une feuille $A4$."
   ]
  },
  {
   "cell_type": "code",
   "execution_count": 2,
   "id": "e46ee3d0",
   "metadata": {},
   "outputs": [],
   "source": [
    "from math import sqrt as racine\n",
    "r =  .134*H_2            "
   ]
  },
  {
   "cell_type": "markdown",
   "id": "760d8112",
   "metadata": {},
   "source": [
    "Puis il nous faut charger notre image initiale $I_1$, ici une photo du lycée Robert Doisneau, dans laquelle nous << piocherons >> les couleurs qui serviront à remplir notre image finale."
   ]
  },
  {
   "cell_type": "code",
   "execution_count": 3,
   "id": "053640d2",
   "metadata": {},
   "outputs": [],
   "source": [
    "from PIL.Image import open\n",
    "\n",
    "I_1 = open('Images/lycee.jpg')\n",
    "L_1, H_1 = I_1.size"
   ]
  },
  {
   "cell_type": "markdown",
   "id": "e5cab207",
   "metadata": {},
   "source": [
    "<center><img src= \"./Images/lycee.jpg\" style = 'width: 500px' /></center>"
   ]
  },
  {
   "cell_type": "markdown",
   "id": "0415d4bb",
   "metadata": {},
   "source": [
    "# I. Projection\n",
    "\n",
    "Dans un premier temps, il nous faut faire correspondre l'image finale << à plat >> avec la surface du cylindre sur laquelle elle est censée être réfléchie. L'idée étant d'obtenir un résultat similaire à l'image suivante :\n",
    "\n",
    "<center><img src= \"./Images/projection.png\" style = 'width: 800px'  /></center>"
   ]
  },
  {
   "cell_type": "markdown",
   "id": "7dc0b087",
   "metadata": {},
   "source": [
    "\n",
    "On assimilera ainsi par << enroulement >> la hauteur du cylindre à la hauteur $H_1$ de l'image initiale.\n",
    "\n",
    "Afin de détailler le processus permettant d'obtenir le résultat voulu, nous nous appuierons sur le schéma suivant :\n",
    "\n",
    "<center><img src= \"./Images/cylindre_3D.png\" style = 'width: 600px' /></center>\n",
    "\n",
    "Nous avons donc :\n",
    "\n",
    "$\\bullet$ Une grille vide correspondant à l'image que l'on souhaite générer $I_2$, plongée dans l'espace munie du repère $\\mathscr{R}_{f}=(O;\\vec{u};\\vec{v};\\vec{w})$, dont la restriction $(O;\\vec{u};\\vec{v})$ correspond aux coordonnées classiques d'un pixel sur une image numérique.\n",
    "\n",
    "$\\bullet$ Un cylindre fictif de rayon $r$ placé au centre de $I_2$ en $\\Omega\\left(\\displaystyle \\frac{L_2}{2};\\displaystyle \\frac{H_2}{2};0\\right)$ dans $\\mathscr{R}_f$ auquel on associe le repère $\\mathscr{R}_{cyl}$ correspondant aux coordonnées cylindriques.\n",
    "\n",
    "Ainsi pour un pixel de coordonnées $M(x;y;0)$ dans  $\\mathscr{R}_f$ sur $I_2$, on considère les points $A$ et $B$ situés respectivement à l'intersection de la demi-droite $[\\Omega M)$ et des cercles de centre $\\Omega$ et de rayons respectifs $r$ et $\\Omega O$. \n",
    "\n",
    "De plus, on définit également le point $C$ de coordonnées $(x_A;y_A;H_1)$, de sorte à associer au point $M$ un point $N$ à la surface du cyclindre déterminé comme étant l'intersection entre la droite $(AC)$ et la parallèle à $(BC)$ passant par $M$.\n",
    "\n",
    "\n",
    "\n",
    "<center><img src= \"./Images/thales.png\" style = 'width: 600px' /></center>\n",
    "\n",
    "En se plaçant dans le plan $(ABC)$ représenté ci-dessus, on obtient en appliquant le théorème de Thalès : $\\displaystyle\\frac{z_{N}}{H_1}=\\displaystyle\\frac{d-r}{r_{proj}-r}$ en notant $d=\\Omega M$.\n",
    "\n",
    "La hauteur du point $N$ recherché est donc $z_{N} = H_1\\times \\displaystyle\\frac{d-r}{r_{proj}-r}$.\n",
    "\n",
    "Nous pourrons donc la calculer en définissant la fonction *hauteur* définie ci-après :"
   ]
  },
  {
   "cell_type": "code",
   "execution_count": 4,
   "id": "82dc0d05",
   "metadata": {},
   "outputs": [],
   "source": [
    "def hauteur(d) :\n",
    "    return H_1*(d - r)/(r_proj - r)"
   ]
  },
  {
   "cell_type": "markdown",
   "id": "e2bc8eaa",
   "metadata": {},
   "source": [
    "Pour que cette dernière soit effective, il nous faut pouvoir calculer les différentes distances entrant en jeu, ce que nous ferons à l'aide de la fonction suivante :"
   ]
  },
  {
   "cell_type": "code",
   "execution_count": 5,
   "id": "644bbe88",
   "metadata": {},
   "outputs": [],
   "source": [
    "from math import sqrt as racine\n",
    "def distance(x, y) :\n",
    "    return racine((x - L_2//2)**2 + (y - H_2//2)**2)"
   ]
  },
  {
   "cell_type": "markdown",
   "id": "a54b7f59",
   "metadata": {},
   "source": [
    "La fonction distance permet en particulier de calculer la distance $r_{proj}=\\Omega O$ :"
   ]
  },
  {
   "cell_type": "code",
   "execution_count": 6,
   "id": "9839c5ff",
   "metadata": {},
   "outputs": [],
   "source": [
    "r_proj = distance(0,0)"
   ]
  },
  {
   "cell_type": "markdown",
   "id": "d352924e",
   "metadata": {},
   "source": [
    "Le point $N$ ainsi associé est donc situé sur un cercle de rayon $r$ et de centre $\\left(\\displaystyle \\frac{L_2}{2};\\displaystyle \\frac{H_2}{2}; z_{N}\\right)$ dans le plan $z=z_{N}$. \n",
    "\n",
    "D'où : $\\begin{cases}\n",
    "x_N = r\\cos(\\theta)+x_{\\Omega} =r\\cos(\\theta)+ \\displaystyle \\frac{L_2}{2} \\\\\n",
    "y_N = r\\sin(\\theta)+y_{\\Omega}=r\\sin(\\theta)+\\displaystyle \\frac{H_2}{2} \\\\\n",
    "\\end{cases}$\n",
    "\n",
    "Le point $N$ a donc pour coordonnées cylindriques $\\left(r; \\theta; z_{N}\\right)$ où $\\theta$ est une mesure de l'angle orienté $(Ox;\\overrightarrow{\\Omega M})$.\n",
    "\n",
    "Pour déterminer une valeur convenable de $\\theta$, nous utiliserons la fonction prédéfinie atan2 prenant en argument l'ordonnée et l'abscisse (dans cet ordre) du vecteur $\\overrightarrow{\\Omega M}$ et renvoyant la mesure principale de l'angle orienté  $(\\vec{u},\\overrightarrow{\\Omega M})$. \n"
   ]
  },
  {
   "cell_type": "code",
   "execution_count": 7,
   "id": "b308d7a0",
   "metadata": {},
   "outputs": [],
   "source": [
    "from math import atan2, pi\n",
    "\n",
    "def angle(x, y) :\n",
    "    return atan2(y - H_2/2, x - L_2/2) + pi/2"
   ]
  },
  {
   "cell_type": "markdown",
   "id": "94ec7837",
   "metadata": {},
   "source": [
    "Pour des raisons esthétiques il peut être intéressant de \"décaler\" l'angle obtenu, ce qui reviendrait matériellement à faire tourner l'image $I_1$ sur le cyclindre et donc sa projection $I_2$. Nous avons ici effectué un déphasage de $\\dfrac{\\pi}{2}$ (un quart de tour) afin de rendre le château d'eau entièrement visible sur la projection."
   ]
  },
  {
   "cell_type": "markdown",
   "id": "a94d42a2",
   "metadata": {},
   "source": [
    "# II. Déroulement\n",
    "\n",
    "Puisque nous avons réussi à expliciter la correspondance entre l'image finale et le cylindre, il nous faut à présent faire de même avec l'image initiale, pour cela il suffit d'imaginer qu'elle est << enroulée >> autour du cylindre, comme représenté ci-après :\n",
    "\n",
    "<center><img src= \"./Images/Enroulement1.png\"   /></center>\n",
    "<center><em> Enroulement de l'image initiale</em></center>\n",
    "\n",
    "\n",
    "Autrement dit, une fois les coordonnées $z_N$ et $\\theta$ obtenues grâce à la première partie, il reste à les associer aux coordonnées $(i;j)$ de l'image numérique initiale $I_1$ obtenues par << déroulement >>, afin d'en extraire sa couleur.\n",
    "\n",
    "Pour cela nous nous appuierons sur le schéma suivant :\n",
    "\n",
    "\n",
    "<center><img src= \"./Images/deroulement.png\" style = 'width: 900px'  /></center>"
   ]
  },
  {
   "cell_type": "markdown",
   "id": "6d8576bd",
   "metadata": {},
   "source": [
    "\n",
    "$\\bullet$ la coordonnée $j$ est liée à la hauteur de $N$, $z_N$, elle correspond à la distance entre N et le point de coordonnées cylindriques $(\\theta, H_1)$, ainsi : $j = H_1 - z_N $.\n",
    "\n",
    "$\\bullet$ la coordonnée $i$ est liée à l'angle $\\theta$ par proportionalité  : $i = \\displaystyle\\frac{L_1 \\times \\theta }{2\\pi}$.\n",
    "\n",
    "D'où la fonction suivante, qui va nous aider à attribuer à chaque pixel vide sa couleur :"
   ]
  },
  {
   "cell_type": "code",
   "execution_count": 8,
   "id": "bc653844",
   "metadata": {},
   "outputs": [],
   "source": [
    "def couleur(z, theta) :\n",
    "    j = int(H_1 - z)\n",
    "    i = int( L_1 * theta /(2*pi))\n",
    "    return i, j"
   ]
  },
  {
   "cell_type": "markdown",
   "id": "7386ead3",
   "metadata": {},
   "source": [
    "Reste à appliquer l'ensemble des raisonnements précédents, au travers des différentes fonctions définies, à chaque pixel $(x,y)$ de l'image finale à l'aide d'une double boucle **for** :"
   ]
  },
  {
   "cell_type": "code",
   "execution_count": 9,
   "id": "5c2693ed",
   "metadata": {},
   "outputs": [],
   "source": [
    "for x in range(L_2) :\n",
    "    for y in range(H_2) :\n",
    "        # on calcule la distance entre Omega et M\n",
    "        d = distance(x, y)\n",
    "        # si M est dans le disque de projection, on cherche la couleur associee\n",
    "        if  d >= r :\n",
    "            theta = angle(x, y)\n",
    "            z = hauteur(d)\n",
    "            i, j = couleur(z, theta)\n",
    "            I_2[y,x] = I_1.getpixel((i,j))\n",
    "        else : # sinon on colorie le pixel en blanc\n",
    "            I_2[y,x] = (255,255,255)"
   ]
  },
  {
   "cell_type": "markdown",
   "id": "c3c72483",
   "metadata": {},
   "source": [
    "Puis à afficher l'image ainsi obtenue :"
   ]
  },
  {
   "cell_type": "code",
   "execution_count": 10,
   "id": "00ef7bd3",
   "metadata": {},
   "outputs": [],
   "source": [
    "from PIL.Image import fromarray\n",
    "I_2 = fromarray(I_2)\n",
    "I_2.show()"
   ]
  },
  {
   "cell_type": "markdown",
   "id": "6e2609bb",
   "metadata": {},
   "source": [
    "Et enfin à l'enregistrer afin de l'imprimer et observer le résultat final :"
   ]
  },
  {
   "cell_type": "code",
   "execution_count": 11,
   "id": "c08e835f",
   "metadata": {},
   "outputs": [],
   "source": [
    "from IPython.display import FileLink",
    "FileLink('lycee_projection.jpg')"
   ]
  },
  {
   "cell_type": "markdown",
   "id": "ad2ba7c2",
   "metadata": {},
   "source": [
    "<center><img src= \"./Images/photo_anamorphose.jpg\" style = 'width: 600px' /></center>"
   ]
  }
 ],
 "metadata": {
  "kernelspec": {
   "display_name": "Python 3 (ipykernel)",
   "language": "python",
   "name": "python3"
  },
  "language_info": {
   "codemirror_mode": {
    "name": "ipython",
    "version": 3
   },
   "file_extension": ".py",
   "mimetype": "text/x-python",
   "name": "python",
   "nbconvert_exporter": "python",
   "pygments_lexer": "ipython3",
   "version": "3.9.7"
  }
 },
 "nbformat": 4,
 "nbformat_minor": 5
}
